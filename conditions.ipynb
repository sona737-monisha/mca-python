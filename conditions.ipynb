{
 "cells": [
  {
   "cell_type": "code",
   "execution_count": null,
   "id": "da54b722",
   "metadata": {},
   "outputs": [],
   "source": [
    "name= input()"
   ]
  },
  {
   "cell_type": "code",
   "execution_count": 13,
   "id": "f16c7f0a",
   "metadata": {},
   "outputs": [
    {
     "data": {
      "text/plain": [
       "'ji'"
      ]
     },
     "execution_count": 13,
     "metadata": {},
     "output_type": "execute_result"
    }
   ],
   "source": [
    "input()"
   ]
  },
  {
   "cell_type": "code",
   "execution_count": 18,
   "id": "e5009c3c",
   "metadata": {},
   "outputs": [
    {
     "name": "stdout",
     "output_type": "stream",
     "text": [
      "moni 15 MCA\n"
     ]
    }
   ],
   "source": [
    "name=input(\"enter name=>\")\n",
    "city=input(\"enter ur roll number=>\")\n",
    "addr=input(\"enter ur course=>\")\n",
    "print(name,city,addr)"
   ]
  },
  {
   "cell_type": "code",
   "execution_count": 23,
   "id": "82f0aea0",
   "metadata": {},
   "outputs": [
    {
     "name": "stdout",
     "output_type": "stream",
     "text": [
      "10 20 30\n"
     ]
    }
   ],
   "source": [
    "a=10\n",
    "b=20\n",
    "c=a+b\n",
    "print(a,b,c)"
   ]
  },
  {
   "cell_type": "code",
   "execution_count": 26,
   "id": "5382f61b",
   "metadata": {},
   "outputs": [
    {
     "name": "stdout",
     "output_type": "stream",
     "text": [
      "44 22 66\n"
     ]
    }
   ],
   "source": [
    "a=int(input(\"enter A:\"))\n",
    "b=int(input(\"enter B:\"))\n",
    "c=a+b\n",
    "print(a,b,c)"
   ]
  },
  {
   "cell_type": "code",
   "execution_count": 25,
   "id": "5a9d91a2",
   "metadata": {},
   "outputs": [
    {
     "data": {
      "text/plain": [
       "20"
      ]
     },
     "execution_count": 25,
     "metadata": {},
     "output_type": "execute_result"
    }
   ],
   "source": [
    "10+10\n"
   ]
  },
  {
   "cell_type": "code",
   "execution_count": 32,
   "id": "7b2d800c",
   "metadata": {},
   "outputs": [
    {
     "name": "stdout",
     "output_type": "stream",
     "text": [
      "11.2\n",
      "22.4\n",
      "70.336\n",
      "393.8816\n"
     ]
    }
   ],
   "source": [
    "radius=float(input(\"enter radius of circle \"))\n",
    "diameter =radius*2\n",
    "circumference=2*3.14*radius\n",
    "area=3.14*radius**2\n",
    "\n",
    "print(radius)\n",
    "print(diameter)\n",
    "print(circumference)\n",
    "print(area)"
   ]
  },
  {
   "cell_type": "code",
   "execution_count": 36,
   "id": "5cd3fc4f",
   "metadata": {},
   "outputs": [
    {
     "name": "stdout",
     "output_type": "stream",
     "text": [
      "12\n",
      "13.0\n",
      "14\n",
      "21.84\n"
     ]
    }
   ],
   "source": [
    "#simple interest\n",
    "p=int(input(\"enter the principle amount\"))\n",
    "r=float(input(\"enter the rate of interest\"))\n",
    "t=int(input(\"enter the time period in year\"))\n",
    "si=p*r*t/100\n",
    "print(p)\n",
    "print(r)\n",
    "print(t)\n",
    "print(si)"
   ]
  },
  {
   "cell_type": "code",
   "execution_count": 37,
   "id": "38d2aeed",
   "metadata": {},
   "outputs": [
    {
     "data": {
      "text/plain": [
       "33"
      ]
     },
     "execution_count": 37,
     "metadata": {},
     "output_type": "execute_result"
    }
   ],
   "source": [
    "a=int(input(\"convert the msg\"))\n",
    "b=int(input(\"enter the name\"))\n",
    "a+b"
   ]
  },
  {
   "cell_type": "code",
   "execution_count": 39,
   "id": "626dc80f",
   "metadata": {},
   "outputs": [
    {
     "name": "stdout",
     "output_type": "stream",
     "text": [
      "74813.64\n"
     ]
    }
   ],
   "source": [
    "pi=3.14\n",
    "r=int(input(\"enter the radius of cylinder:\"))\n",
    "h=int(input(\"enter the value of height\"))\n",
    "v=pi*r**2*h\n",
    "print(v)"
   ]
  },
  {
   "cell_type": "code",
   "execution_count": 42,
   "id": "f298b19b",
   "metadata": {},
   "outputs": [
    {
     "name": "stdout",
     "output_type": "stream",
     "text": [
      "this is an exmple\n",
      "one two three\n",
      "144\n",
      "moni|😍😍😍😍|moki|😍😍😍😍|chochi\n"
     ]
    }
   ],
   "source": [
    "print(\"this is an exmple\")\n",
    "print(\"one\",\"two\",\"three\")\n",
    "print(100+55-11)\n",
    "print(\"moni\",\"moki\",\"chochi\",sep=\"|😍😍😍😍|\")"
   ]
  },
  {
   "cell_type": "code",
   "execution_count": 1,
   "id": "871de184",
   "metadata": {},
   "outputs": [
    {
     "name": "stdout",
     "output_type": "stream",
     "text": [
      "1 2 3 4 5\n",
      "1 2 3 4\n",
      "1,2,3,4,5,6\n",
      "1➡️2➡️3➡️4➡️5\n",
      "1hello world2hello world3hello world4hello world5\n"
     ]
    }
   ],
   "source": [
    "print(1,2,3,4,5)\n",
    "print(1,2,3,4,sep=\" \")\n",
    "print(1,2,3,4,5,6,sep=',')\n",
    "print(1,2,3,4,5,sep =\"➡️\")\n",
    "print(1,2,3,4,5,sep=\"hello world\")\n"
   ]
  },
  {
   "cell_type": "code",
   "execution_count": 7,
   "id": "3cfcb879",
   "metadata": {},
   "outputs": [
    {
     "name": "stdout",
     "output_type": "stream",
     "text": [
      "130\n",
      "answer 130\n",
      "Answer 130\n",
      "Answer  130\n",
      "100 + 30 =>130 \n",
      "Answer130\n",
      "100+30=130\n"
     ]
    }
   ],
   "source": [
    "a=100\n",
    "b=30\n",
    "c=a+b\n",
    "print(c)\n",
    "print(\"answer \"+str(c))\n",
    "print(\"Answer\",c)\n",
    "print(\"Answer % d\"%c)\n",
    "print(\"%d + %d =>%d \"%(a,b,c))\n",
    "print(\"Answer{}\".format(c))\n",
    "print(\"{}+{}={}\".format(a,b,c))"
   ]
  },
  {
   "cell_type": "code",
   "execution_count": 1,
   "id": "90bd49ea",
   "metadata": {},
   "outputs": [
    {
     "name": "stdout",
     "output_type": "stream",
     "text": [
      "answer130\n",
      "100 + 30= 130\n"
     ]
    }
   ],
   "source": [
    "#final actual way to format output using f-strings\n",
    "a=100\n",
    "b=30\n",
    "c=a+b\n",
    "print(f\"answer{c}\")\n",
    "print(f\"{a} + {b}= {c}\")"
   ]
  },
  {
   "cell_type": "code",
   "execution_count": 6,
   "id": "239f536d",
   "metadata": {},
   "outputs": [
    {
     "name": "stdout",
     "output_type": "stream",
     "text": [
      " we get 130,when we add 100 and 30\n"
     ]
    }
   ],
   "source": [
    "print (f' we get {c},when we add {a} and {b}')"
   ]
  },
  {
   "cell_type": "code",
   "execution_count": 5,
   "id": "baea0fc2",
   "metadata": {},
   "outputs": [
    {
     "name": "stdout",
     "output_type": "stream",
     "text": [
      " my name is monisha,i work as a spy in company\n"
     ]
    }
   ],
   "source": [
    "name=\"monisha\"\n",
    "job=\"spy\"\n",
    "company=\"echeleon\"\n",
    "print(f\" my name is {name},i work as a {job} in company\")"
   ]
  },
  {
   "cell_type": "code",
   "execution_count": 3,
   "id": "8f395936",
   "metadata": {},
   "outputs": [
    {
     "name": "stdout",
     "output_type": "stream",
     "text": [
      "value=> 200\n"
     ]
    }
   ],
   "source": [
    "data=int(input(\"enter data value\"))\n",
    "print(f\"value=> {data}\")"
   ]
  },
  {
   "cell_type": "code",
   "execution_count": 5,
   "id": "71bfe813",
   "metadata": {},
   "outputs": [
    {
     "name": "stdout",
     "output_type": "stream",
     "text": [
      "you see a apple seller\n",
      "you dont purchase apples\n"
     ]
    }
   ],
   "source": [
    "print('you see a apple seller')\n",
    "a = input ('do you like apples❔')\n",
    "\n",
    "if a=='yes':\n",
    "       print('purchase 2kg of apples')\n",
    "if a=='no':\n",
    "    print('you dont purchase apples')"
   ]
  },
  {
   "cell_type": "code",
   "execution_count": 10,
   "id": "84f1a237",
   "metadata": {},
   "outputs": [],
   "source": [
    "del da"
   ]
  },
  {
   "cell_type": "code",
   "execution_count": 9,
   "id": "65b1d899",
   "metadata": {},
   "outputs": [
    {
     "name": "stdout",
     "output_type": "stream",
     "text": [
      "calculation of hypotenuse\n",
      "perpendicular => 20\n",
      "base =>10\n",
      "based on pythagoras theorem:\n",
      "hypotenuse =>22.360679774997898\n"
     ]
    }
   ],
   "source": [
    "p=20\n",
    "b=10\n",
    "h=(p**2+b**2)**.5\n",
    "print(\"calculation of hypotenuse\")\n",
    "print(f\"perpendicular => {p}\")\n",
    "print( f'base =>{b}')\n",
    "print(\"based on pythagoras theorem:\")\n",
    "print(f\"hypotenuse =>{h}\")"
   ]
  },
  {
   "cell_type": "code",
   "execution_count": 1,
   "id": "b4cbb2a6",
   "metadata": {},
   "outputs": [
    {
     "name": "stdout",
     "output_type": "stream",
     "text": [
      "Hello, Monisha\n",
      "You are from chittoor\n",
      "You are 20 years old.\n",
      "Your rate is 10.0\n"
     ]
    }
   ],
   "source": [
    "name = input(\"Enter your name: \")\n",
    "print(\"Hello,\", name)\n",
    "city = input(\"Enter your city: \")\n",
    "print(\"You are from\", city)\n",
    "age = int(input(\"Enter your age: \"))\n",
    "print(\"You are\", age, \"years old.\")\n",
    "rate = float(input(\"Enter your rate: \"))\n",
    "print(\"Your rate is\", rate)"
   ]
  },
  {
   "cell_type": "code",
   "execution_count": 2,
   "id": "32c0a383",
   "metadata": {},
   "outputs": [
    {
     "name": "stdout",
     "output_type": "stream",
     "text": [
      "Welcome to Python!\n",
      "Sum: 8\n",
      "Hello World !\n",
      "Name: Alice\n",
      "Name: Alice Age: 22 City: New York\n"
     ]
    }
   ],
   "source": [
    "print(\"Welcome to Python!\")\n",
    "print(\"Sum:\", 5 + 3)\n",
    "print(\"Hello\", \"World\", \"!\")\n",
    "name = \"Alice\"\n",
    "print(\"Name:\", name)\n",
    "name, age, city = \"Alice\", 22, \"New York\"\n",
    "print(\"Name:\", name, \"Age:\", age, \"City:\", city)"
   ]
  },
  {
   "cell_type": "code",
   "execution_count": 3,
   "id": "866074ea",
   "metadata": {},
   "outputs": [
    {
     "name": "stdout",
     "output_type": "stream",
     "text": [
      "Alice is 22 years old.\n"
     ]
    }
   ],
   "source": [
    "name = \"Alice\"\n",
    "age = 22\n",
    "print(f\"{name} is {age} years old.\")"
   ]
  },
  {
   "cell_type": "code",
   "execution_count": 4,
   "id": "e869b2d0",
   "metadata": {},
   "outputs": [
    {
     "name": "stdout",
     "output_type": "stream",
     "text": [
      "Bob scored 95 marks.\n",
      "Charlie is 30 years old.\n"
     ]
    }
   ],
   "source": [
    "print(\"{} scored {} marks.\".format(\"Bob\", 95))\n",
    "print(\"{1} is {0} years old.\".format(30, \"Charlie\"))"
   ]
  },
  {
   "cell_type": "code",
   "execution_count": 5,
   "id": "bdbf3b45",
   "metadata": {},
   "outputs": [
    {
     "name": "stdout",
     "output_type": "stream",
     "text": [
      "<class 'int'>\n"
     ]
    }
   ],
   "source": [
    "x = 10\n",
    "print(type(x))  # <class 'int'>"
   ]
  },
  {
   "cell_type": "code",
   "execution_count": null,
   "id": "fbb33fb8",
   "metadata": {},
   "outputs": [
    {
     "name": "stdout",
     "output_type": "stream",
     "text": [
      "Alice is 22 years old.\n"
     ]
    }
   ],
   "source": [
    "name = \"Alice\"\n",
    "age = 22\n",
    "print(f\"{name} is {age} years old.\")"
   ]
  },
  {
   "cell_type": "code",
   "execution_count": 6,
   "id": "2d423441",
   "metadata": {},
   "outputs": [
    {
     "name": "stdout",
     "output_type": "stream",
     "text": [
      "<class 'float'>\n"
     ]
    }
   ],
   "source": [
    "y = 3.5\n",
    "print(type(y))  # <class 'float'>"
   ]
  },
  {
   "cell_type": "code",
   "execution_count": 7,
   "id": "c25c69ec",
   "metadata": {},
   "outputs": [
    {
     "name": "stdout",
     "output_type": "stream",
     "text": [
      "<class 'complex'>\n"
     ]
    }
   ],
   "source": [
    "z = 1 + 2j\n",
    "print(type(z))  # <class 'complex'>"
   ]
  },
  {
   "cell_type": "code",
   "execution_count": 8,
   "id": "2151fd8f",
   "metadata": {},
   "outputs": [
    {
     "name": "stdout",
     "output_type": "stream",
     "text": [
      "<class 'NoneType'>\n"
     ]
    }
   ],
   "source": [
    "n = None\n",
    "print(type(n))  # <class 'NoneType'>"
   ]
  },
  {
   "cell_type": "code",
   "execution_count": 9,
   "id": "4fbfbc86",
   "metadata": {},
   "outputs": [
    {
     "name": "stdout",
     "output_type": "stream",
     "text": [
      "<class 'str'>\n"
     ]
    }
   ],
   "source": [
    "s = \"Python\"\n",
    "print(type(s))  # <class 'str'>"
   ]
  },
  {
   "cell_type": "code",
   "execution_count": 10,
   "id": "2a9b255a",
   "metadata": {},
   "outputs": [
    {
     "name": "stdout",
     "output_type": "stream",
     "text": [
      "<class 'bool'>\n"
     ]
    }
   ],
   "source": [
    "flag = True\n",
    "print(type(flag))  # <class 'bool'>"
   ]
  },
  {
   "cell_type": "code",
   "execution_count": 11,
   "id": "c430571a",
   "metadata": {},
   "outputs": [
    {
     "name": "stdout",
     "output_type": "stream",
     "text": [
      "<class 'bool'>\n"
     ]
    }
   ],
   "source": [
    "flag = True\n",
    "print(type(flag))  # <class 'bool'>"
   ]
  },
  {
   "cell_type": "code",
   "execution_count": 12,
   "id": "6e859e67",
   "metadata": {},
   "outputs": [
    {
     "name": "stdout",
     "output_type": "stream",
     "text": [
      "<class 'list'>\n"
     ]
    }
   ],
   "source": [
    "fruits = [\"apple\", \"banana\", \"cherry\"]\n",
    "print(type(fruits))  # <class 'list'>"
   ]
  },
  {
   "cell_type": "code",
   "execution_count": null,
   "id": "823fc9b8",
   "metadata": {},
   "outputs": [
    {
     "name": "stdout",
     "output_type": "stream",
     "text": [
      "Alice is 22 years old.\n"
     ]
    }
   ],
   "source": [
    "name = \"Alice\"\n",
    "age = 22\n",
    "print(f\"{name} is {age} years old.\")"
   ]
  },
  {
   "cell_type": "code",
   "execution_count": 13,
   "id": "2a994a1d",
   "metadata": {},
   "outputs": [
    {
     "name": "stdout",
     "output_type": "stream",
     "text": [
      "<class 'set'>\n"
     ]
    }
   ],
   "source": [
    "fruits = {\"apple\", \"banana\", \"cherry\"}\n",
    "print(type(fruits))  # <class 'set'>"
   ]
  },
  {
   "cell_type": "code",
   "execution_count": 14,
   "id": "4a096c36",
   "metadata": {},
   "outputs": [
    {
     "name": "stdout",
     "output_type": "stream",
     "text": [
      "<class 'dict'>\n"
     ]
    }
   ],
   "source": [
    "student = {\"name\": \"Alice\", \"age\": 22}\n",
    "print(type(student))  # <class 'dict'>"
   ]
  },
  {
   "cell_type": "code",
   "execution_count": 15,
   "id": "4f279957",
   "metadata": {},
   "outputs": [
    {
     "name": "stdout",
     "output_type": "stream",
     "text": [
      "<class 'bytes'>\n"
     ]
    }
   ],
   "source": [
    "b = b\"Hello\"\n",
    "print(type(b))  # <class 'bytes'>"
   ]
  },
  {
   "cell_type": "code",
   "execution_count": 16,
   "id": "591e14e2",
   "metadata": {},
   "outputs": [
    {
     "name": "stdout",
     "output_type": "stream",
     "text": [
      "<class 'frozenset'>\n"
     ]
    }
   ],
   "source": [
    "fs = frozenset([1, 2, 3])\n",
    "print(type(fs))  # <class 'frozenset'>"
   ]
  },
  {
   "cell_type": "code",
   "execution_count": 17,
   "id": "33a653fc",
   "metadata": {},
   "outputs": [
    {
     "name": "stdout",
     "output_type": "stream",
     "text": [
      "<class 'frozenset'>\n"
     ]
    }
   ],
   "source": [
    "fs = frozenset([1, 2, 3])\n",
    "print(type(fs))  # <class 'frozenset'>"
   ]
  },
  {
   "cell_type": "code",
   "execution_count": 18,
   "id": "987e7f86",
   "metadata": {},
   "outputs": [
    {
     "name": "stdout",
     "output_type": "stream",
     "text": [
      "<class 'collections.OrderedDict'>\n"
     ]
    }
   ],
   "source": [
    "from collections import OrderedDict\n",
    "od = OrderedDict()\n",
    "od[\"apple\"] = 1\n",
    "od[\"banana\"] = 2\n",
    "print(type(od))  # <class 'collections.OrderedDict'>"
   ]
  },
  {
   "cell_type": "code",
   "execution_count": 19,
   "id": "e34366d9",
   "metadata": {},
   "outputs": [
    {
     "name": "stdout",
     "output_type": "stream",
     "text": [
      "defaultdict(<class 'int'>, {'apple': 1})\n"
     ]
    }
   ],
   "source": [
    "from collections import defaultdict\n",
    "dd = defaultdict(int)\n",
    "dd[\"apple\"] += 1\n",
    "print(dd)  # defaultdict(<class 'int'>, {'apple': 1})\n"
   ]
  },
  {
   "cell_type": "code",
   "execution_count": 20,
   "id": "9d9ce2c8",
   "metadata": {},
   "outputs": [
    {
     "name": "stdout",
     "output_type": "stream",
     "text": [
      "defaultdict(<class 'int'>, {'apple': 1})\n"
     ]
    }
   ],
   "source": [
    "from collections import defaultdict\n",
    "dd = defaultdict(int)\n",
    "dd[\"apple\"] += 1\n",
    "print(dd)  # defaultdict(<class 'int'>, {'apple': 1})\n"
   ]
  },
  {
   "cell_type": "code",
   "execution_count": 21,
   "id": "feb6c584",
   "metadata": {},
   "outputs": [
    {
     "name": "stdout",
     "output_type": "stream",
     "text": [
      "deque([2, 1])\n"
     ]
    }
   ],
   "source": [
    "from collections import deque\n",
    "d = deque()\n",
    "d.append(1)\n",
    "d.appendleft(2)\n",
    "print(d)  # deque([2, 1])"
   ]
  },
  {
   "cell_type": "code",
   "execution_count": 22,
   "id": "1da33963",
   "metadata": {},
   "outputs": [
    {
     "name": "stdout",
     "output_type": "stream",
     "text": [
      "{'apple': 1}\n"
     ]
    }
   ],
   "source": [
    "from collections import UserDict\n",
    "class MyDict(UserDict):\n",
    "    def __setitem__(self, key, value):\n",
    "        super().__setitem__(key, value)\n",
    "d = MyDict()\n",
    "d[\"apple\"] = 1\n",
    "print(d)  # MyDict({'apple': 1})"
   ]
  },
  {
   "cell_type": "code",
   "execution_count": 23,
   "id": "3e3c6afc",
   "metadata": {},
   "outputs": [
    {
     "name": "stdout",
     "output_type": "stream",
     "text": [
      "[1]\n"
     ]
    }
   ],
   "source": [
    "from collections import UserList\n",
    "class MyList(UserList):\n",
    "    def append(self, item):\n",
    "        super().append(item)\n",
    "l = MyList()\n",
    "l.append(1)\n",
    "print(l)  # MyList([1])"
   ]
  },
  {
   "cell_type": "code",
   "execution_count": 24,
   "id": "8a2bc0cb",
   "metadata": {},
   "outputs": [
    {
     "name": "stdout",
     "output_type": "stream",
     "text": [
      "<class 'str'>\n"
     ]
    }
   ],
   "source": [
    "x = 10      # x is int\n",
    "x = \"ten\"   # now x is str\n",
    "print(type(x))  # <class 'str'>\n"
   ]
  },
  {
   "cell_type": "code",
   "execution_count": 25,
   "id": "f97f07da",
   "metadata": {},
   "outputs": [
    {
     "name": "stdout",
     "output_type": "stream",
     "text": [
      "Alice is 22 years old.\n"
     ]
    }
   ],
   "source": [
    "name = \"Alice\"\n",
    "age = 22\n",
    "print(f\"{name} is {age} years old.\")"
   ]
  },
  {
   "cell_type": "code",
   "execution_count": 26,
   "id": "30916c9a",
   "metadata": {},
   "outputs": [
    {
     "name": "stdout",
     "output_type": "stream",
     "text": [
      "7\n"
     ]
    }
   ],
   "source": [
    "a = \"5\"\n",
    "b = \"2\"\n",
    "c = int(a) + int(b)  # convert strings to int\n",
    "print(c)  # 7"
   ]
  },
  {
   "cell_type": "code",
   "execution_count": null,
   "id": "5fa195b1",
   "metadata": {},
   "outputs": [
    {
     "name": "stdout",
     "output_type": "stream",
     "text": [
      "Alice is 22 years old.\n"
     ]
    }
   ],
   "source": [
    "name = \"Alice\"\n",
    "age = 22\n",
    "print(f\"{name} is {age} years old.\")"
   ]
  },
  {
   "cell_type": "code",
   "execution_count": 29,
   "id": "894e0233",
   "metadata": {},
   "outputs": [
    {
     "name": "stdout",
     "output_type": "stream",
     "text": [
      "13\n",
      "3.3333333333333335\n",
      "3\n",
      "1000\n"
     ]
    }
   ],
   "source": [
    "a = 10\n",
    "b = 3\n",
    "print(a + b)  # 13\n",
    "print(a / b)  # 3.333...\n",
    "print(a // b) # 3\n",
    "print(a ** b) # 1000"
   ]
  },
  {
   "cell_type": "code",
   "execution_count": 30,
   "id": "dc435292",
   "metadata": {},
   "outputs": [
    {
     "name": "stdout",
     "output_type": "stream",
     "text": [
      "True\n",
      "False\n"
     ]
    }
   ],
   "source": [
    "print(5 > 2)   # True\n",
    "print(5 == 2)  # False"
   ]
  },
  {
   "cell_type": "code",
   "execution_count": 31,
   "id": "8d1316fe",
   "metadata": {},
   "outputs": [
    {
     "name": "stdout",
     "output_type": "stream",
     "text": [
      "True\n",
      "False\n"
     ]
    }
   ],
   "source": [
    "x = 5\n",
    "print(x > 2 and x < 10)  # True\n",
    "print(not(x == 5))       # False"
   ]
  },
  {
   "cell_type": "code",
   "execution_count": 32,
   "id": "21ac96ce",
   "metadata": {},
   "outputs": [
    {
     "name": "stdout",
     "output_type": "stream",
     "text": [
      "1\n",
      "7\n",
      "6\n",
      "-6\n",
      "10\n",
      "2\n"
     ]
    }
   ],
   "source": [
    "a = 5  # 0101\n",
    "b = 3  # 0011\n",
    "print(a & b)  # 1\n",
    "print(a | b)  # 7\n",
    "print(a ^ b)  # 6\n",
    "print(~a)     # -6\n",
    "print(a << 1) # 10\n",
    "print(a >> 1) # 2"
   ]
  },
  {
   "cell_type": "code",
   "execution_count": 33,
   "id": "bd853048",
   "metadata": {},
   "outputs": [
    {
     "name": "stdout",
     "output_type": "stream",
     "text": [
      "15\n"
     ]
    }
   ],
   "source": [
    "x = 10\n",
    "x += 5  # x = x + 5\n",
    "print(x)  # 15"
   ]
  },
  {
   "cell_type": "code",
   "execution_count": 34,
   "id": "326a9b61",
   "metadata": {},
   "outputs": [
    {
     "name": "stdout",
     "output_type": "stream",
     "text": [
      "True\n",
      "True\n"
     ]
    }
   ],
   "source": [
    "nums = [1, 2, 3]\n",
    "print(2 in nums)      # True\n",
    "print(4 not in nums)  # True"
   ]
  },
  {
   "cell_type": "code",
   "execution_count": 35,
   "id": "a33640bc",
   "metadata": {},
   "outputs": [
    {
     "name": "stdout",
     "output_type": "stream",
     "text": [
      "True\n",
      "False\n",
      "True\n"
     ]
    }
   ],
   "source": [
    "a = [1, 2]\n",
    "b = a\n",
    "c = [1, 2]\n",
    "print(a is b)      # True\n",
    "print(a is c)      # False\n",
    "print(a == c)      # True"
   ]
  },
  {
   "cell_type": "code",
   "execution_count": 36,
   "id": "c9a2ae3c",
   "metadata": {},
   "outputs": [],
   "source": [
    "result = 2 + 3 * 4      # Multiplication has higher precedence: 2 + (3 * 4) = 14\n",
    "result = (2 + 3) * 4    # Parentheses change the order: (2 + 3) * 4 = 20\n",
    "result = 2 ** 3 ** 2    # Exponentiation is right-to-left: 2 ** (3 ** 2) = 512\n",
    "result = 10 - 4 + 2     # Addition and subtraction are left-to-right: (10 - 4) + 2 = 8"
   ]
  },
  {
   "cell_type": "code",
   "execution_count": 37,
   "id": "175e662e",
   "metadata": {},
   "outputs": [
    {
     "name": "stdout",
     "output_type": "stream",
     "text": [
      "Hello\n"
     ]
    }
   ],
   "source": [
    "# This is a single-line comment\n",
    "print(\"Hello\")  # This is an inline comment"
   ]
  },
  {
   "cell_type": "code",
   "execution_count": 38,
   "id": "ffd3899b",
   "metadata": {},
   "outputs": [
    {
     "data": {
      "text/plain": [
       "'\\nThis is also a\\nmulti-line comment\\n'"
      ]
     },
     "execution_count": 38,
     "metadata": {},
     "output_type": "execute_result"
    }
   ],
   "source": [
    "# This is a\n",
    "# multi-line comment\n",
    "\n",
    "'''\n",
    "This is also a\n",
    "multi-line comment\n",
    "'''"
   ]
  },
  {
   "cell_type": "code",
   "execution_count": 8,
   "id": "ec25d009",
   "metadata": {},
   "outputs": [],
   "source": [
    "def add(a, b):\n",
    "    \"\"\"\n",
    "    Adds two numbers.\n",
    "    \"\"\"\n",
    "    return a + b"
   ]
  },
  {
   "cell_type": "code",
   "execution_count": 11,
   "id": "472362a2",
   "metadata": {},
   "outputs": [
    {
     "name": "stdout",
     "output_type": "stream",
     "text": [
      "total salary is 42000\n"
     ]
    }
   ],
   "source": [
    "salary = 42000\n",
    "if salary > 50000:\n",
    "    da = .15\n",
    "total = salary +salary * da\n",
    "print (f\"total salary is {total}\")"
   ]
  },
  {
   "cell_type": "code",
   "execution_count": null,
   "id": "2306c45e",
   "metadata": {},
   "outputs": [
    {
     "name": "stdout",
     "output_type": "stream",
     "text": [
      "total salary is 42000\n"
     ]
    }
   ],
   "source": [
    "salary = 42000\n",
    "if salary > 50000:\n",
    "    da = .15\n",
    "    total = salary + salary * da\n",
    "else:\n",
    "    total = salary\n",
    "print(f\"total salary is {total}\")"
   ]
  },
  {
   "cell_type": "code",
   "execution_count": 13,
   "id": "96e40ddd",
   "metadata": {},
   "outputs": [
    {
     "name": "stdout",
     "output_type": "stream",
     "text": [
      "total salary is 48300.0\n"
     ]
    }
   ],
   "source": [
    "salary = 42000\n",
    "if salary < 50000:\n",
    "    da = .15\n",
    "    total = salary + salary * da\n",
    "else:\n",
    "    total = salary\n",
    "print(f\"total salary is {total}\")"
   ]
  },
  {
   "cell_type": "code",
   "execution_count": 17,
   "id": "750871ea",
   "metadata": {},
   "outputs": [
    {
     "name": "stdout",
     "output_type": "stream",
     "text": [
      "222\n"
     ]
    }
   ],
   "source": [
    "x = int(input( \"enter a number:\"))\n",
    "y = int(input(\"enter second number :\"))\n",
    "if x > y:\n",
    "    a = x - y\n",
    "else:\n",
    "    a = y - x\n",
    "print(a)"
   ]
  },
  {
   "cell_type": "code",
   "execution_count": 21,
   "id": "be87bf26",
   "metadata": {},
   "outputs": [
    {
     "name": "stdout",
     "output_type": "stream",
     "text": [
      "short movie name:arya\n",
      "the end\n"
     ]
    }
   ],
   "source": [
    "name = input(\"enter your fav movie\")\n",
    "if len (name)>10:\n",
    "    print(f\"long movie name:{name}\")\n",
    "else:\n",
    "    print(f\"short movie name:{name}\")\n",
    "print(\"the end\")"
   ]
  },
  {
   "cell_type": "code",
   "execution_count": 2,
   "id": "e3e0729c",
   "metadata": {},
   "outputs": [
    {
     "name": "stdout",
     "output_type": "stream",
     "text": [
      "2 5 6\n",
      "b is greater \n"
     ]
    }
   ],
   "source": [
    "a,b,c,=2,5,6\n",
    "print(a,b,c)\n",
    "if a > b:\n",
    "    print(\"a is greater \")\n",
    "else :\n",
    "    print(\"b is greater \")\n",
    "     "
   ]
  },
  {
   "cell_type": "code",
   "execution_count": 10,
   "id": "47dfcb74",
   "metadata": {},
   "outputs": [
    {
     "name": "stdout",
     "output_type": "stream",
     "text": [
      " you must be from britain\n"
     ]
    }
   ],
   "source": [
    "question = input (\"what is the capital of india\")\n",
    "answer = input(\"answer\")\n",
    "if answer == \"delhi\":\n",
    "  print(\"your are correct\")\n",
    "if answer == \" new delhi\":\n",
    "  print(\"your are very correct\")\n",
    "if answer == \"i dont know \":\n",
    "  print(\" u must be sleeping under a rock\")\n",
    "if answer == \"shimla\":\n",
    "  print(\" you must be from britain\")\n"
   ]
  },
  {
   "cell_type": "code",
   "execution_count": 19,
   "id": "82a69108",
   "metadata": {},
   "outputs": [
    {
     "name": "stdout",
     "output_type": "stream",
     "text": [
      "your grade:B\n",
      "your grade:C\n",
      "your grade:D\n"
     ]
    }
   ],
   "source": [
    "marks = int (input(\"entwr your total marks in 10:\"))\n",
    "if marks > 90:\n",
    "     print(\"your grade:A\")\n",
    "if marks > 75:\n",
    "     print(\"your grade:B\")\n",
    "if marks > 60:\n",
    "     print(\"your grade:C\")\n",
    "if marks > 40:\n",
    "     print(\"your grade:D\")\n",
    "if marks < 40:\n",
    "     print(\"failed ☠️\")"
   ]
  },
  {
   "cell_type": "code",
   "execution_count": 21,
   "id": "8c8693d0",
   "metadata": {},
   "outputs": [
    {
     "name": "stdout",
     "output_type": "stream",
     "text": [
      "your grade:B\n"
     ]
    }
   ],
   "source": [
    "marks = int (input(\"entwr your total marks in 10:\"))\n",
    "if marks > 90 and marks <=100:\n",
    "     print(\"your grade:A\")\n",
    "if marks > 75 and marks <=90:\n",
    "     print(\"your grade:B\")\n",
    "if marks > 60 and marks <=74:\n",
    "     print(\"your grade:C\")\n",
    "if marks > 40 and marks <=60:\n",
    "     print(\"your grade:D\")\n",
    "if marks < 40:\n",
    "     print(\"failed ☠️\")"
   ]
  },
  {
   "cell_type": "code",
   "execution_count": 26,
   "id": "7a4b6f69",
   "metadata": {},
   "outputs": [
    {
     "name": "stdout",
     "output_type": "stream",
     "text": [
      "frds salary => 80000\n",
      "frds total => 76000.0\n"
     ]
    }
   ],
   "source": [
    "salary = int(input(\"Enter your frnds salary:\"))\n",
    "if salary > 100000:\n",
    "    total = salary - salary * .2\n",
    "elif salary > 80000:\n",
    "    total = salary - salary * .1\n",
    "elif salary > 50000:\n",
    "    total = salary - salary * .05\n",
    "else:\n",
    "    total = salary + 10000\n",
    "print(f'frds salary => {salary}')\n",
    "print(f'frds total => {total}')"
   ]
  }
 ],
 "metadata": {
  "kernelspec": {
   "display_name": "Python 3",
   "language": "python",
   "name": "python3"
  },
  "language_info": {
   "codemirror_mode": {
    "name": "ipython",
    "version": 3
   },
   "file_extension": ".py",
   "mimetype": "text/x-python",
   "name": "python",
   "nbconvert_exporter": "python",
   "pygments_lexer": "ipython3",
   "version": "3.13.6"
  }
 },
 "nbformat": 4,
 "nbformat_minor": 5
}
