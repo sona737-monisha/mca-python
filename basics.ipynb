{
 "cells": [
  {
   "cell_type": "code",
   "execution_count": 1,
   "id": "a65fbccc",
   "metadata": {},
   "outputs": [
    {
     "data": {
      "text/plain": [
       "5"
      ]
     },
     "execution_count": 1,
     "metadata": {},
     "output_type": "execute_result"
    }
   ],
   "source": [
    "3+2"
   ]
  },
  {
   "cell_type": "code",
   "execution_count": 2,
   "id": "34f77176",
   "metadata": {},
   "outputs": [],
   "source": [
    "x=5\n",
    "y=1.5\n",
    "z=10j\n",
    "is_working=False\n",
    "is_empty=None\n",
    "univ=\"mohanbabu university\" \n",
    "colors=['red','pink','orange']\n",
    "point=(1,3,14,10)\n",
    "names={'kaveri','moki','venni'}\n",
    "info={\n",
    "    \"name\":\"zaid\",\n",
    "    \"designation\":\"training manager\",\n",
    "    \"dept\":\"CDC\"\n",
    "}"
   ]
  },
  {
   "cell_type": "code",
   "execution_count": 3,
   "id": "bd959975",
   "metadata": {},
   "outputs": [
    {
     "data": {
      "text/plain": [
       "50.24"
      ]
     },
     "execution_count": 3,
     "metadata": {},
     "output_type": "execute_result"
    }
   ],
   "source": [
    "r=8   # cm\n",
    "pi=3.14\n",
    "circumference=2*pi*r\n",
    "circumference"
   ]
  },
  {
   "cell_type": "code",
   "execution_count": 4,
   "id": "d5569342",
   "metadata": {},
   "outputs": [
    {
     "data": {
      "text/plain": [
       "3.14"
      ]
     },
     "execution_count": 4,
     "metadata": {},
     "output_type": "execute_result"
    }
   ],
   "source": [
    "pi"
   ]
  },
  {
   "cell_type": "code",
   "execution_count": null,
   "id": "f58e9845",
   "metadata": {},
   "outputs": [],
   "source": [
    "# operators\n",
    "-assignment operator\n",
    "-arithmetic operator\n",
    "-comparison operator\n",
    "-logical operator\n",
    "-bitwise operator\n",
    "-membership operator\n",
    "\n",
    "assingment operator \n"
   ]
  },
  {
   "cell_type": "code",
   "execution_count": null,
   "id": "2c1b76da",
   "metadata": {},
   "outputs": [
    {
     "data": {
      "text/plain": [
       "2500.0"
      ]
     },
     "execution_count": 10,
     "metadata": {},
     "output_type": "execute_result"
    }
   ],
   "source": [
    "x=1000  #assingment\n",
    "x-=500  #assingment\n",
    "x*=10\n",
    "x/=2\n",
    "x"
   ]
  },
  {
   "cell_type": "code",
   "execution_count": 11,
   "id": "fa24cf0b",
   "metadata": {},
   "outputs": [],
   "source": [
    "z=5"
   ]
  },
  {
   "cell_type": "code",
   "execution_count": 1,
   "id": "15f81115",
   "metadata": {},
   "outputs": [
    {
     "data": {
      "text/plain": [
       "13"
      ]
     },
     "execution_count": 1,
     "metadata": {},
     "output_type": "execute_result"
    }
   ],
   "source": [
    "a=10\n",
    "b=3\n",
    "a+b\n"
   ]
  },
  {
   "cell_type": "code",
   "execution_count": 2,
   "id": "568b83ff",
   "metadata": {},
   "outputs": [
    {
     "data": {
      "text/plain": [
       "3"
      ]
     },
     "execution_count": 2,
     "metadata": {},
     "output_type": "execute_result"
    }
   ],
   "source": [
    "a+b-a\n"
   ]
  },
  {
   "cell_type": "code",
   "execution_count": 3,
   "id": "831da509",
   "metadata": {},
   "outputs": [
    {
     "data": {
      "text/plain": [
       "3.3333333333333335"
      ]
     },
     "execution_count": 3,
     "metadata": {},
     "output_type": "execute_result"
    }
   ],
   "source": [
    "a/b"
   ]
  },
  {
   "cell_type": "code",
   "execution_count": 4,
   "id": "179163a3",
   "metadata": {},
   "outputs": [
    {
     "data": {
      "text/plain": [
       "3"
      ]
     },
     "execution_count": 4,
     "metadata": {},
     "output_type": "execute_result"
    }
   ],
   "source": [
    "a//b"
   ]
  },
  {
   "cell_type": "code",
   "execution_count": 5,
   "id": "3990e3a9",
   "metadata": {},
   "outputs": [
    {
     "data": {
      "text/plain": [
       "1"
      ]
     },
     "execution_count": 5,
     "metadata": {},
     "output_type": "execute_result"
    }
   ],
   "source": [
    "a%b"
   ]
  },
  {
   "cell_type": "code",
   "execution_count": 6,
   "id": "7de899e5",
   "metadata": {},
   "outputs": [
    {
     "data": {
      "text/plain": [
       "1000"
      ]
     },
     "execution_count": 6,
     "metadata": {},
     "output_type": "execute_result"
    }
   ],
   "source": [
    "a**b"
   ]
  },
  {
   "cell_type": "code",
   "execution_count": 7,
   "id": "df3b2040",
   "metadata": {},
   "outputs": [
    {
     "data": {
      "text/plain": [
       "27.0"
      ]
     },
     "execution_count": 7,
     "metadata": {},
     "output_type": "execute_result"
    }
   ],
   "source": [
    "2+10/2*5\n",
    "#2+5.0*5 step 1\n",
    "#2+25.o  step 2\n",
    "#27.0    step 3\n"
   ]
  },
  {
   "cell_type": "code",
   "execution_count": 8,
   "id": "792f9bbc",
   "metadata": {},
   "outputs": [
    {
     "data": {
      "text/plain": [
       "169"
      ]
     },
     "execution_count": 8,
     "metadata": {},
     "output_type": "execute_result"
    }
   ],
   "source": [
    "x=(a+b)**2\n",
    "x"
   ]
  },
  {
   "cell_type": "code",
   "execution_count": 11,
   "id": "ef57ace4",
   "metadata": {},
   "outputs": [
    {
     "data": {
      "text/plain": [
       "5.0"
      ]
     },
     "execution_count": 11,
     "metadata": {},
     "output_type": "execute_result"
    }
   ],
   "source": [
    "per=3\n",
    "base=4\n",
    "hyp=(per**2+base**2)**.5\n",
    "hyp"
   ]
  },
  {
   "cell_type": "code",
   "execution_count": 17,
   "id": "34770898",
   "metadata": {},
   "outputs": [
    {
     "data": {
      "text/plain": [
       "48"
      ]
     },
     "execution_count": 17,
     "metadata": {},
     "output_type": "execute_result"
    }
   ],
   "source": [
    "x=10\n",
    "3*x+2*(x-1)"
   ]
  },
  {
   "cell_type": "code",
   "execution_count": 18,
   "id": "cce5a4c1",
   "metadata": {},
   "outputs": [
    {
     "data": {
      "text/plain": [
       "3.875"
      ]
     },
     "execution_count": 18,
     "metadata": {},
     "output_type": "execute_result"
    }
   ],
   "source": [
    "x=2+4+5+6+1+2+5+6\n",
    "y=8\n",
    "x/y"
   ]
  },
  {
   "cell_type": "code",
   "execution_count": 2,
   "id": "81b4e8e9",
   "metadata": {},
   "outputs": [],
   "source": [
    "x=10\n",
    "y=15"
   ]
  },
  {
   "cell_type": "code",
   "execution_count": 3,
   "id": "4c5ad397",
   "metadata": {},
   "outputs": [],
   "source": [
    "x,y=11,12"
   ]
  },
  {
   "cell_type": "code",
   "execution_count": 6,
   "id": "243a27ba",
   "metadata": {},
   "outputs": [
    {
     "data": {
      "text/plain": [
       "False"
      ]
     },
     "execution_count": 6,
     "metadata": {},
     "output_type": "execute_result"
    }
   ],
   "source": [
    "y>=22"
   ]
  },
  {
   "cell_type": "code",
   "execution_count": 4,
   "id": "6dcd0129",
   "metadata": {},
   "outputs": [],
   "source": [
    "a,d,f,a=11,33,44,44"
   ]
  },
  {
   "cell_type": "code",
   "execution_count": 5,
   "id": "be5034fe",
   "metadata": {},
   "outputs": [
    {
     "data": {
      "text/plain": [
       "False"
      ]
     },
     "execution_count": 5,
     "metadata": {},
     "output_type": "execute_result"
    }
   ],
   "source": [
    "x>y"
   ]
  },
  {
   "cell_type": "code",
   "execution_count": 7,
   "id": "942ae5ad",
   "metadata": {},
   "outputs": [
    {
     "data": {
      "text/plain": [
       "False"
      ]
     },
     "execution_count": 7,
     "metadata": {},
     "output_type": "execute_result"
    }
   ],
   "source": [
    "x<15<y"
   ]
  },
  {
   "cell_type": "code",
   "execution_count": 9,
   "id": "596f9822",
   "metadata": {},
   "outputs": [],
   "source": [
    "x=100"
   ]
  },
  {
   "cell_type": "code",
   "execution_count": 11,
   "id": "5d8b6225",
   "metadata": {},
   "outputs": [
    {
     "data": {
      "text/plain": [
       "True"
      ]
     },
     "execution_count": 11,
     "metadata": {},
     "output_type": "execute_result"
    }
   ],
   "source": [
    "x>y and x>a\n"
   ]
  },
  {
   "cell_type": "code",
   "execution_count": 12,
   "id": "887e5f47",
   "metadata": {},
   "outputs": [
    {
     "data": {
      "text/plain": [
       "False"
      ]
     },
     "execution_count": 12,
     "metadata": {},
     "output_type": "execute_result"
    }
   ],
   "source": [
    "not a"
   ]
  },
  {
   "cell_type": "code",
   "execution_count": 13,
   "id": "5eeefd84",
   "metadata": {},
   "outputs": [
    {
     "data": {
      "text/plain": [
       "True"
      ]
     },
     "execution_count": 13,
     "metadata": {},
     "output_type": "execute_result"
    }
   ],
   "source": [
    "not (a==10)"
   ]
  },
  {
   "cell_type": "code",
   "execution_count": null,
   "id": "16c2b375",
   "metadata": {},
   "outputs": [],
   "source": []
  }
 ],
 "metadata": {
  "kernelspec": {
   "display_name": "Python 3",
   "language": "python",
   "name": "python3"
  },
  "language_info": {
   "codemirror_mode": {
    "name": "ipython",
    "version": 3
   },
   "file_extension": ".py",
   "mimetype": "text/x-python",
   "name": "python",
   "nbconvert_exporter": "python",
   "pygments_lexer": "ipython3",
   "version": "3.13.6"
  }
 },
 "nbformat": 4,
 "nbformat_minor": 5
}
