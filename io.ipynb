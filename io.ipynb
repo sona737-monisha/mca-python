{
 "cells": [
  {
   "cell_type": "code",
   "execution_count": null,
   "id": "21a04e58",
   "metadata": {},
   "outputs": [],
   "source": [
    "print "
   ]
  }
 ],
 "metadata": {
  "language_info": {
   "name": "python"
  }
 },
 "nbformat": 4,
 "nbformat_minor": 5
}
